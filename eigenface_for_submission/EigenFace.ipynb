{
 "cells": [
  {
   "cell_type": "code",
   "execution_count": 1,
   "metadata": {},
   "outputs": [],
   "source": [
    "import glob\n",
    "from os.path import join\n",
    "import ntpath\n",
    "import cv2\n",
    "import numpy as np\n",
    "from sklearn.preprocessing import normalize\n",
    "from matplotlib import pyplot as plt\n",
    "import os\n",
    "import time\n",
    "%matplotlib inline"
   ]
  },
  {
   "cell_type": "code",
   "execution_count": 2,
   "metadata": {},
   "outputs": [],
   "source": [
    "def read_test_images():\n",
    "    filenames = [f for f in glob.glob(join('images/Test','*.jpg'))]\n",
    "    filenames = sorted(filenames)\n",
    "    print(\"There are {} test images\".format(len(filenames)))\n",
    "    images = [cv2.imread(f,cv2.IMREAD_GRAYSCALE) for f in filenames]\n",
    "    images = np.reshape(images, (len(images),-1))\n",
    "    labels = [int(ntpath.basename(f)[:5]) for f in filenames]\n",
    "    \n",
    "    return np.array(images),np.array(labels)"
   ]
  },
  {
   "cell_type": "code",
   "execution_count": 3,
   "metadata": {},
   "outputs": [],
   "source": [
    "def read_train_images():\n",
    "    filenames = [f for f in glob.glob(join('images/Train','*.jpg'))]\n",
    "    filenames = sorted(filenames)\n",
    "    print(\"There are {} train images\".format(len(filenames)))\n",
    "    \n",
    "    images = [cv2.imread(f,cv2.IMREAD_GRAYSCALE) for f in filenames]\n",
    "    images = np.reshape(images, (len(images),-1))\n",
    "    labels = [int(ntpath.basename(f)[:5]) for f in filenames]\n",
    "    \n",
    "    return np.array(images),np.array(labels)"
   ]
  },
  {
   "cell_type": "code",
   "execution_count": 4,
   "metadata": {},
   "outputs": [
    {
     "name": "stdout",
     "output_type": "stream",
     "text": [
      "There are 25 train images\n",
      "There are 40 test images\n"
     ]
    }
   ],
   "source": [
    "X_train,y_train = read_train_images()\n",
    "X_test,y_test = read_test_images()\n",
    "mean = np.mean(X_train,axis=0)"
   ]
  },
  {
   "cell_type": "code",
   "execution_count": 5,
   "metadata": {},
   "outputs": [
    {
     "name": "stdout",
     "output_type": "stream",
     "text": [
      "Train counts [1 1 1 1 1 1 1 1 1 1 1 1 1 1 1 1 1 1 1 1 1 1 1 1 1]\n",
      "Test counts [2 2 2 2 2 2 2 2 2 2 2 2 2 2 2 2 2 2 2 2]\n"
     ]
    }
   ],
   "source": [
    "unique,counts = np.unique(y_train,return_counts=True)\n",
    "print('Train counts',counts)\n",
    "\n",
    "unique,counts = np.unique(y_test,return_counts=True)\n",
    "print('Test counts',counts)\n"
   ]
  },
  {
   "cell_type": "code",
   "execution_count": 6,
   "metadata": {},
   "outputs": [],
   "source": [
    "def compute_l2_distance(a,b):\n",
    "    # Input:\n",
    "    # a - D dimensional image as a row\n",
    "    # b - D dimensional image as a row\n",
    "    \n",
    "    # Returns `distance` scaler value\n",
    "    distance = np.sqrt(np.sum((a-b)*(a-b)))\n",
    "    return distance"
   ]
  },
  {
   "cell_type": "code",
   "execution_count": null,
   "metadata": {},
   "outputs": [],
   "source": []
  },
  {
   "cell_type": "code",
   "execution_count": 7,
   "metadata": {},
   "outputs": [],
   "source": [
    "def get_threshold_and_performance_metrics(genuine_scores,imposter_scores,type2_error_weight=1):\n",
    "    min_error = len(genuine_scores) + len(imposter_scores)\n",
    "    min_threshold = 0\n",
    "    #print(len(genuine_scores), len(imposter_scores))\n",
    "    all_scores = genuine_scores + imposter_scores\n",
    "    #print(len(all_scores))\n",
    "    for threshold in all_scores:\n",
    "        # Type1 error: rejecting genuine face - FRR\n",
    "        type1 = len([s for s in genuine_scores if s >= threshold ])         \n",
    "        # Type2 error: accepting imposter - FAR\n",
    "        type2 = len([s for s in imposter_scores if s < threshold ])  \n",
    "        num_errors = type1 + type2*type2_error_weight\n",
    "        if num_errors < min_error:\n",
    "            min_type1 = type1\n",
    "            min_type2 = type2\n",
    "            min_error = num_errors\n",
    "            min_threshold = threshold\n",
    "            \n",
    "    FRR = min_type1/len(genuine_scores)\n",
    "    FAR = min_type2/len(imposter_scores)\n",
    "    print(\"FRR: type1 error: {}/{} \".format(min_type1,len(genuine_scores)))\n",
    "    print(\"FAR: type2 error: {}/{} \".format(min_type2,len(imposter_scores)))\n",
    "    #print(\"found thershold:\",min_threshold)\n",
    "    print('min_error: ',min_error)\n",
    "    return min_threshold,FAR,FRR"
   ]
  },
  {
   "cell_type": "code",
   "execution_count": 8,
   "metadata": {},
   "outputs": [],
   "source": [
    "# genuine_matching_scores\n",
    "def get_genuine_scores(X_test):\n",
    "    num_test = X_test.shape[0]\n",
    "    # Use pairs of same person to compute the score distribution of\n",
    "    #genuine matching scores.\n",
    "    #tick = time.time()\n",
    "    genuine_matching_scores = [compute_l2_distance(X_test[i],X_test[i+1]) for i in range(0,num_test,2)]\n",
    "    #tock = time.time()\n",
    "    #d = tock-tick\n",
    "    #print(\"Genuine  Imgs/sec: {0:.2}\".format(d/len(genuine_matching_scores)))\n",
    "    return genuine_matching_scores\n",
    "\n",
    "def get_imposter_scores(X_test):\n",
    "    num_test = X_test.shape[0]\n",
    "    #Use the first image of each person to matching with the first images\n",
    "    #of others to compute the imposter matching scores\n",
    "    imposter_matching_scores = []\n",
    "    d = 0\n",
    "    repeat_for_amortized_time = 1\n",
    "    for k in range(repeat_for_amortized_time):\n",
    "        imposter_matching_scores = []\n",
    "        for i in range(0,num_test,2):\n",
    "            for j in range(i+2,num_test,2):\n",
    "                tick = time.time()\n",
    "                imposter_matching_scores.append(compute_l2_distance(X_test[i],X_test[j]))\n",
    "                tock = time.time()\n",
    "                d += tock-tick\n",
    "    print(\"Imposter Imgs/sec: {0:.2}\".format(len(imposter_matching_scores)*repeat_for_amortized_time/d))\n",
    "\n",
    "    return imposter_matching_scores"
   ]
  },
  {
   "cell_type": "code",
   "execution_count": null,
   "metadata": {},
   "outputs": [],
   "source": []
  },
  {
   "cell_type": "code",
   "execution_count": 9,
   "metadata": {},
   "outputs": [
    {
     "name": "stdout",
     "output_type": "stream",
     "text": [
      "Imposter Imgs/sec: 1.2e+04\n",
      "FRR: type1 error: 8/20 \n",
      "FAR: type2 error: 0/190 \n",
      "min_error:  8\n",
      "for threshold of 0.87 --> Falsing Matching Rate(FMR/FAR): 0.00 / False Non-Matching Rate(FNMR/FRR): 40.00 \n"
     ]
    },
    {
     "data": {
      "image/png": "[encoded data removed]",
      "text/plain": [
       "<Figure size 432x288 with 1 Axes>"
      ]
     },
     "metadata": {
      "needs_background": "light"
     },
     "output_type": "display_data"
    }
   ],
   "source": [
    "X_test_norm = X_test - mean\n",
    "X_test_norm = normalize(X_test_norm)\n",
    "genuine_matching_scores = get_genuine_scores(X_test_norm)\n",
    "imposter_matching_scores = get_imposter_scores(X_test_norm)\n",
    "\n",
    "num_bins = min(len(genuine_matching_scores),len(imposter_matching_scores))\n",
    "plt.hist(imposter_matching_scores, bins=num_bins,density=True, alpha=0.5, label='Imposter', facecolor='red')\n",
    "plt.hist(genuine_matching_scores, bins=num_bins, density=True, alpha=0.5, label='Genuine', facecolor='blue')\n",
    "\n",
    "plt.legend()\n",
    "plt.xlabel('Distance score')\n",
    "plt.ylabel('Histogram')\n",
    "plt.title('Original_feature dimension {}'.format(X_test.shape[1]))\n",
    "threshold,FAR,FRR = get_threshold_and_performance_metrics(genuine_matching_scores,\n",
    "                                                          imposter_matching_scores,type2_error_weight=10)\n",
    "plt.plot([threshold, threshold], [0, 10], 'k-', lw=2, label='Distance Threshold')\n",
    "print(\"for threshold of {0:.2f} --> Falsing Matching Rate(FMR/FAR): {1:.2f}\\\n",
    " / False Non-Matching Rate(FNMR/FRR): {2:.2f} \".format(threshold,100*FAR,100*FRR))\n",
    "plt.savefig('visualizations/thresholds/without_pca.png')\n",
    "plt.show()\n"
   ]
  },
  {
   "cell_type": "markdown",
   "metadata": {},
   "source": [
    "## PCA"
   ]
  },
  {
   "cell_type": "code",
   "execution_count": 10,
   "metadata": {},
   "outputs": [],
   "source": [
    "\n",
    "def find_covariance_matrix(X_train):\n",
    "    # returns covariance matrix C  [D x D] where D is number of features/pixels \n",
    "    num_train = X_train.shape[0]\n",
    "    mean = np.mean(X_train,axis=0) # D\n",
    "    B = X_train - mean # [N x D] where N is number of train images\n",
    "    B = normalize(B) # I think normalizing will speed up eigenvector/eigenvalue matrix factorization\n",
    "    C = 1./(num_train-1)*np.dot(B.T,B) # [D x D]\n",
    "    return C"
   ]
  },
  {
   "cell_type": "code",
   "execution_count": 11,
   "metadata": {},
   "outputs": [],
   "source": [
    "# saving eigenvectors in sorted fashion only once\n",
    "def compute_n_save_eigens(C):\n",
    "    orig_eigenvalues, orig_eigenvectors = np.linalg.eig(C)\n",
    "    eigenvectors = np.real(orig_eigenvectors)\n",
    "    eigenvalues = np.real(orig_eigenvalues)\n",
    "\n",
    "    # we need descending order, remember higher eigenvalue means more important dimension\n",
    "    indices = np.flip(np.argsort(eigenvalues)) \n",
    "    eigenvectors = eigenvectors[:,indices] # note, sorting column because x[:,i] columns contains i-th eigenvect\n",
    "    eigenvalues = eigenvalues[indices]\n",
    "\n",
    "    #saving matrices, because computing was a bit time consuming\n",
    "    np.save('eigenvectors.npy',eigenvectors)\n",
    "    np.save('eigenvalues.npy',eigenvalues)\n",
    "    print(\"Computed,sorted and saved eigens\")"
   ]
  },
  {
   "cell_type": "code",
   "execution_count": 12,
   "metadata": {},
   "outputs": [],
   "source": [
    "def pca(eigenvectors,X,n_components):\n",
    "    # Input:\n",
    "    # X          -  [N x D]\n",
    "    # eigenvectors/principal components -  [D x D] - each column represents single eigenvector, \n",
    "    #they are sorted according to importance (maximum variation in feature values)\n",
    "    \n",
    "    # Returns:\n",
    "    # projected_X - [N x k] where K<<D    \n",
    "    pc = eigenvectors[:,:n_components]\n",
    "    best_components = pc # [D x K]\n",
    "    projected_X = np.dot(X,best_components) # [N x K]\n",
    "    return projected_X"
   ]
  },
  {
   "cell_type": "code",
   "execution_count": null,
   "metadata": {},
   "outputs": [],
   "source": []
  },
  {
   "cell_type": "code",
   "execution_count": 13,
   "metadata": {},
   "outputs": [
    {
     "name": "stdout",
     "output_type": "stream",
     "text": [
      "Loaded eigen vectors of shape  (16384, 16384)\n"
     ]
    }
   ],
   "source": [
    "#if you do not provide eigenvectors it is time consuming to compute (25min)\n",
    "if not os.path.isfile('eigenvectors.npy'):\n",
    "    tick = time.time()\n",
    "    C = find_covariance_matrix(X_train)\n",
    "    compute_n_save_eigens(C) # finds, sorts and saves eigen vecor and eigen values\n",
    "    tock = time.time()\n",
    "    print('EigenVectors/Values computed in {0:.0f} sec.'.format(tock-tick)) # takes about 25min  \n",
    "    \n",
    "# loading saved eigenvectors\n",
    "eigenvectors = np.load('eigenvectors.npy')\n",
    "eigenvalues = np.load('eigenvalues.npy')\n",
    "mean = np.mean(X_train)\n",
    "print('Loaded eigen vectors of shape ', eigenvectors.shape)\n"
   ]
  },
  {
   "cell_type": "code",
   "execution_count": 14,
   "metadata": {},
   "outputs": [
    {
     "data": {
      "text/plain": [
       "array([ 0.00235526,  0.00141418, -0.0031166 , -0.00588016,  0.00529884,\n",
       "       -0.01650022, -0.01478567, -0.02248772, -0.01538704, -0.01015275])"
      ]
     },
     "execution_count": 14,
     "metadata": {},
     "output_type": "execute_result"
    }
   ],
   "source": [
    "eigenvectors[0,:10]"
   ]
  },
  {
   "cell_type": "code",
   "execution_count": 15,
   "metadata": {},
   "outputs": [
    {
     "data": {
      "text/plain": [
       "array([0.23757575, 0.128174  , 0.07879236, 0.06821604, 0.05801386,\n",
       "       0.05137721, 0.04866766, 0.04232051, 0.03731889, 0.03526352])"
      ]
     },
     "execution_count": 15,
     "metadata": {},
     "output_type": "execute_result"
    }
   ],
   "source": [
    "eigenvalues[:10]"
   ]
  },
  {
   "cell_type": "code",
   "execution_count": null,
   "metadata": {},
   "outputs": [],
   "source": []
  },
  {
   "cell_type": "code",
   "execution_count": 16,
   "metadata": {},
   "outputs": [
    {
     "name": "stdout",
     "output_type": "stream",
     "text": [
      "Imposter Imgs/sec: 1.5e+05\n",
      "FRR: type1 error: 7/20 \n",
      "FAR: type2 error: 0/190 \n",
      "min_error:  7\n",
      "for threshold of 0.31 --> Falsing Matching Rate(FMR/FAR): 0.00 / False Non-Matching Rate(FNMR/FRR): 35.0 \n"
     ]
    },
    {
     "data": {
      "image/png": "[encoded data removed]",
      "text/plain": [
       "<Figure size 432x288 with 1 Axes>"
      ]
     },
     "metadata": {
      "needs_background": "light"
     },
     "output_type": "display_data"
    }
   ],
   "source": [
    "n_components=10\n",
    "\n",
    "X_test_norm =X_test - mean\n",
    "X_test_norm = normalize(X_test_norm)\n",
    "X_test_pca = pca(eigenvectors,X_test_norm,n_components=n_components)\n",
    "\n",
    "genuine_matching_scores = get_genuine_scores(X_test_pca)\n",
    "imposter_matching_scores = get_imposter_scores(X_test_pca)\n",
    "\n",
    "plt.clf()\n",
    "plt.close()\n",
    "num_bins = min(len(genuine_matching_scores),len(imposter_matching_scores))\n",
    "\n",
    "# plot histogram of distance scores\n",
    "plt.hist(imposter_matching_scores, bins=num_bins,density=True, alpha=0.5, label='Imposter', facecolor='red')\n",
    "plt.hist(genuine_matching_scores, bins=num_bins, density=True, alpha=0.5, label='Genuine', facecolor='blue')\n",
    "plt.legend()\n",
    "plt.grid()\n",
    "plt.xlabel('Distance score')\n",
    "plt.ylabel('Histogram')\n",
    "plt.title('PCA featurs space reduced to --> {}'.format(n_components))\n",
    "\n",
    "#put the found threshold\n",
    "threshold,FAR,FRR = get_threshold_and_performance_metrics(genuine_matching_scores,\n",
    "                                                          imposter_matching_scores,type2_error_weight=10)\n",
    "plt.plot([threshold, threshold], [0, 10], 'k-', lw=2, label='Distance Threshold')\n",
    "print(\"for threshold of {0:.2f} --> Falsing Matching Rate(FMR/FAR): {1:.2f}\\\n",
    " / False Non-Matching Rate(FNMR/FRR): {2:} \".format(threshold,100*FAR,100*FRR))\n",
    "plt.savefig('visualizations/thresholds/pca_{}.png'.format(n_components),dpi=100)\n",
    "plt.show()"
   ]
  },
  {
   "cell_type": "code",
   "execution_count": 17,
   "metadata": {},
   "outputs": [
    {
     "data": {
      "text/plain": [
       "array([ 0.00235526,  0.00141418, -0.0031166 , -0.00588016,  0.00529884,\n",
       "       -0.01650022, -0.01478567, -0.02248772, -0.01538704, -0.01015275])"
      ]
     },
     "execution_count": 17,
     "metadata": {},
     "output_type": "execute_result"
    }
   ],
   "source": [
    "eigenvectors[0,:10]"
   ]
  },
  {
   "cell_type": "markdown",
   "metadata": {},
   "source": [
    "## Visualizing EigenFaces "
   ]
  },
  {
   "cell_type": "code",
   "execution_count": 18,
   "metadata": {},
   "outputs": [],
   "source": [
    "def normalize_to_image_range(x,increase_whiteness=1):\n",
    "    x *= 255./np.max(x)*increase_whiteness\n",
    "    x = np.minimum(255,x)\n",
    "    return x"
   ]
  },
  {
   "cell_type": "markdown",
   "metadata": {},
   "source": [
    "### Best 100 EigenFaces "
   ]
  },
  {
   "cell_type": "code",
   "execution_count": 19,
   "metadata": {},
   "outputs": [],
   "source": [
    "num_eigenfaces_to_visualize = 100\n",
    "sz = (128,128) \n",
    "# eigenvectors [D x D] where D = 128*128\n",
    "for i in range(num_eigenfaces_to_visualize):\n",
    "    eigenface = eigenvectors[:,i] # [D x 1]\n",
    "    filename=  'visualizations/eigenfaces/{0:05}.png'.format(i)\n",
    "    eigenface = eigenface.reshape(sz) #[128 x 128]\n",
    "    eigenface = normalize_to_image_range(eigenface)\n",
    "    cv2.imwrite(filename,eigenface)"
   ]
  },
  {
   "cell_type": "code",
   "execution_count": null,
   "metadata": {},
   "outputs": [],
   "source": []
  },
  {
   "cell_type": "markdown",
   "metadata": {},
   "source": [
    "# Covariance Matrix visualization"
   ]
  },
  {
   "cell_type": "markdown",
   "metadata": {},
   "source": [
    "### For original image"
   ]
  },
  {
   "cell_type": "code",
   "execution_count": 20,
   "metadata": {},
   "outputs": [],
   "source": [
    "# \n",
    "# reszie train image (128,128) -> (10,10) so that we can compare Cov matrix with PCA 100 CovMat\n",
    "X_train_reshaped = X_train.reshape((-1,128,128)) # returning to original shape\n",
    "sz = (10,10) # we will resize (128,128) --> (10,10)\n",
    "num_features = np.product(sz) \n",
    "new_X_train = []\n",
    "for i in range(X_train_reshaped.shape[0]):\n",
    "    new_X_train.append(cv2.resize(X_train_reshaped[i],sz))\n",
    "new_X_train = np.array(new_X_train)\n",
    "new_X_train = new_X_train.reshape(new_X_train.shape[0],-1)\n"
   ]
  },
  {
   "cell_type": "code",
   "execution_count": 21,
   "metadata": {},
   "outputs": [
    {
     "name": "stdout",
     "output_type": "stream",
     "text": [
      "(100, 100)\n"
     ]
    },
    {
     "data": {
      "text/plain": [
       "False"
      ]
     },
     "execution_count": 21,
     "metadata": {},
     "output_type": "execute_result"
    }
   ],
   "source": [
    "C = find_covariance_matrix(new_X_train)\n",
    "C = C*C\n",
    "C = normalize_to_image_range(C,increase_whiteness=num_features)\n",
    "print(C.shape)\n",
    "cv2.imwrite('visualizations/covariance/original-{}.png'.format(sz),C)"
   ]
  },
  {
   "cell_type": "markdown",
   "metadata": {},
   "source": [
    "### For PCA projetcted image with 100PCs"
   ]
  },
  {
   "cell_type": "code",
   "execution_count": 22,
   "metadata": {},
   "outputs": [
    {
     "name": "stdout",
     "output_type": "stream",
     "text": [
      "(100, 100)\n"
     ]
    },
    {
     "data": {
      "text/plain": [
       "False"
      ]
     },
     "execution_count": 22,
     "metadata": {},
     "output_type": "execute_result"
    }
   ],
   "source": [
    "X_train_projected = pca(eigenvectors,X_train,n_components=num_features)\n",
    "C = find_covariance_matrix(X_train_projected)\n",
    "C = C*C\n",
    "C = normalize_to_image_range(C,increase_whiteness=num_features)\n",
    "print(C.shape)\n",
    "cv2.imwrite('visualizations/covariance/{}PCs.png'.format(num_features),C)"
   ]
  },
  {
   "cell_type": "code",
   "execution_count": null,
   "metadata": {},
   "outputs": [],
   "source": []
  },
  {
   "cell_type": "code",
   "execution_count": null,
   "metadata": {},
   "outputs": [],
   "source": []
  },
  {
   "cell_type": "code",
   "execution_count": null,
   "metadata": {},
   "outputs": [],
   "source": []
  },
  {
   "cell_type": "code",
   "execution_count": null,
   "metadata": {},
   "outputs": [],
   "source": []
  },
  {
   "cell_type": "code",
   "execution_count": null,
   "metadata": {},
   "outputs": [],
   "source": []
  },
  {
   "cell_type": "code",
   "execution_count": null,
   "metadata": {},
   "outputs": [],
   "source": []
  },
  {
   "cell_type": "code",
   "execution_count": null,
   "metadata": {},
   "outputs": [],
   "source": []
  },
  {
   "cell_type": "code",
   "execution_count": null,
   "metadata": {},
   "outputs": [],
   "source": []
  },
  {
   "cell_type": "code",
   "execution_count": null,
   "metadata": {},
   "outputs": [],
   "source": []
  },
  {
   "cell_type": "code",
   "execution_count": null,
   "metadata": {},
   "outputs": [],
   "source": []
  },
  {
   "cell_type": "code",
   "execution_count": null,
   "metadata": {},
   "outputs": [],
   "source": []
  },
  {
   "cell_type": "code",
   "execution_count": null,
   "metadata": {},
   "outputs": [],
   "source": []
  },
  {
   "cell_type": "code",
   "execution_count": null,
   "metadata": {},
   "outputs": [],
   "source": []
  },
  {
   "cell_type": "code",
   "execution_count": null,
   "metadata": {},
   "outputs": [],
   "source": []
  }
 ],
 "metadata": {
  "kernelspec": {
   "display_name": "Python 3",
   "language": "python",
   "name": "python3"
  },
  "language_info": {
   "codemirror_mode": {
    "name": "ipython",
    "version": 3
   },
   "file_extension": ".py",
   "mimetype": "text/x-python",
   "name": "python",
   "nbconvert_exporter": "python",
   "pygments_lexer": "ipython3",
   "version": "3.6.8"
  }
 },
 "nbformat": 4,
 "nbformat_minor": 2
}
